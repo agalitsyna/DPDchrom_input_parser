{
 "cells": [
  {
   "cell_type": "code",
   "execution_count": 1,
   "metadata": {},
   "outputs": [],
   "source": [
    "import pandas as pd\n",
    "import numpy as np\n",
    "import seaborn as sns\n",
    "import matplotlib as mpl\n",
    "import matplotlib.pyplot as plt\n",
    "import os\n",
    "\n",
    "# For files download:\n",
    "import urllib3\n",
    "\n",
    "# For parseing strings into dataframes\n",
    "import sys\n",
    "if sys.version_info[0] < 3: \n",
    "    from StringIO import StringIO\n",
    "else:\n",
    "    from io import StringIO  \n",
    "    \n",
    "import scipy\n",
    "\n",
    "# Supress warnings, which happen mostly because of outdated numpy\n",
    "import warnings\n",
    "warnings.simplefilter(\"ignore\")"
   ]
  },
  {
   "cell_type": "code",
   "execution_count": 2,
   "metadata": {},
   "outputs": [],
   "source": [
    "from lib import *"
   ]
  },
  {
   "cell_type": "code",
   "execution_count": 3,
   "metadata": {},
   "outputs": [],
   "source": [
    "if not os.path.exists('./data'):\n",
    "    os.mkdir('./data')"
   ]
  },
  {
   "cell_type": "markdown",
   "metadata": {},
   "source": [
    "### Bintu et al. data\n",
    "\n",
    "Link to the paper: https://science.sciencemag.org/content/362/6413/eaau1783 \n",
    "\n",
    "Method: STORM and difraction-limited imaging\n",
    "\n",
    "Resolution: 30 Kb\n",
    "\n",
    "Regions: \n",
    "\n",
    "```\n",
    "chr21:28000071-29949939 (IMR90,K562,A549,HCT116+/-AUXIN - diffraction limited)\n",
    "\n",
    "chr21:28000071-29229892 (IMR90 STORM)\n",
    "\n",
    "chr21:18627714-20577518 (IMR90 - diffraction limited)\n",
    "\n",
    "chr21:34628096-37117534 (IMR90,K562,A549,HCT116+/-AUXIN - diffraction limited)\n",
    "```\n",
    "\n",
    "\n",
    "Genome: hg38\n",
    "\n",
    "Source: https://github.com/BogdanBintu/ChromatinImaging/tree/master/Data \n",
    "\n",
    "Note: There are also files for hg19 genome, but I guess these are the same results posted for another genome. \n",
    "\n",
    "note on definition of the contact from the paper: \n",
    "```\n",
    "\"Contact between two chromatin segments was defined as\n",
    "their center-to-center distance between smaller than 150 nm in our diffraction-limited multiplexed\n",
    "imaging data. The contact probability was defined for each pair of 30 kb segments as the fraction of\n",
    "chromosomes satisfying this requirement\"\n",
    "```\n",
    "```\n",
    "\"Two segments were considered contacting in diffraction-limited\n",
    "images if their spatial inter-distance is less than 150 nm. Similarly, in the spatial-overlap analysis\n",
    "of STORM images, two segments were considered contacting if their fraction-of-overlap value,\n",
    "as defined above, was greater than 0.1. These threshold values were selected to be smaller than,\n",
    "or comparable to, the average values between the consecutive segments which are intrinsically\n",
    "contacting or overlapping as they are polymerically connected.\"\n",
    "```"
   ]
  },
  {
   "cell_type": "code",
   "execution_count": 4,
   "metadata": {},
   "outputs": [],
   "source": [
    "path = 'https://raw.githubusercontent.com/BogdanBintu/ChromatinImaging/master/Data/'\n",
    "files_list = [\n",
    "    'HCT116_chr21-28-30Mb_6h auxin.csv',  # Take 10 cells\n",
    "    'HCT116_chr21-28-30Mb_untreated.csv', # Take 10 cells\n",
    "#     'HCT116_chr21-34-37Mb_6h auxin.csv',\n",
    "#     'HCT116_chr21-34-37Mb_auxin_cellDiv.csv',\n",
    "#     'A549_chr21-28-30Mb.csv',\n",
    "#     'HCT116_chr21-34-37Mb_untreated.csv',\n",
    "#     'IMR90_chr21-18-20Mb.csv',\n",
    "#     'IMR90_chr21-28-30Mb.csv',\n",
    "#     'IMR90_chr21-28-30Mb_cell cycle.csv',\n",
    "#     'K562_chr21-28-30Mb.csv'\n",
    "]"
   ]
  },
  {
   "cell_type": "code",
   "execution_count": 5,
   "metadata": {
    "scrolled": true
   },
   "outputs": [],
   "source": [
    "resolution = 30_000\n",
    "distance_threshold = 150\n",
    "\n",
    "for f in files_list:\n",
    "    \n",
    "    # Read the file content\n",
    "    link = os.path.join(path, f)\n",
    "    http_pool = urllib3.connection_from_url(link)\n",
    "    r = http_pool.urlopen('GET', link)\n",
    "    data = r.data.decode('utf-8')\n",
    "    \n",
    "    # Read the dataframe with 3D coordinates: \n",
    "    df = pd.read_csv(StringIO(data), sep=\",\", skiprows=1)\n",
    "    \n",
    "    # Create table of genomic segments: \n",
    "    region = f.split('_')[1].split('-')\n",
    "    segments = np.sort(np.unique(df['Segment index']))\n",
    "    segments_table = pd.DataFrame({'Segment index': segments,\n",
    "                                  'chrom': [region[0] for x in segments], \n",
    "                                  'start': [int(region[1])*1e6 + i*resolution for i in range(len(segments))]})\n",
    "    segments_table['end'] = segments_table['start'] + resolution\n",
    "    segments_table = segments_table.set_index('Segment index')\n",
    "    \n",
    "    cells = np.sort(np.unique(df['Chromosome index']))\n",
    "    for cell in np.random.choice(cells, 10): # pick 10 random cells\n",
    "        \n",
    "        coordinates = df.loc[df['Chromosome index']==cell, ['X', 'Y', 'Z']].values # 3D coordinates\n",
    "        n_dots = coordinates.shape[0] # Number of bins in the analysis\n",
    "        dist_mtx = scipy.spatial.distance.squareform(scipy.spatial.distance.pdist(coordinates, metric='euclidean'))\n",
    "        \n",
    "        # Construct data structure: \n",
    "        experiment = ImagingExperiment(dist_mtx, {'n_dots' : n_dots, \n",
    "                                                  'author' : \"Bintu2018\", \n",
    "                                                  'region' : f.split('_')[1].split('.')[0], \n",
    "                                                  'cell_index' : cell,\n",
    "                                                  'resolution': 30000,\n",
    "                                                 'file': f,\n",
    "                                                 'cell_line': f.split('/')[-1].split('_')[0]})\n",
    "        \n",
    "        # Calculate distance matrix and contacts:\n",
    "        experiment.convert_to_contacts(threshold=distance_threshold)\n",
    "        experiment.annotate_contacts(segments_table)\n",
    "        experiment.annotate_distances(segments_table)\n",
    "        \n",
    "        # Write the output\n",
    "        experiment.save_contacts('./data/contacts_{author}_{cell_line}_region-{region}_cell-{cell_index}.tsv')\n",
    "        experiment.save_distances('./data/distances_{author}_{cell_line}_region-{region}_cell-{cell_index}.tsv')"
   ]
  },
  {
   "cell_type": "code",
   "execution_count": 6,
   "metadata": {},
   "outputs": [
    {
     "data": {
      "text/plain": [
       "<matplotlib.axes._subplots.AxesSubplot at 0x7f0d878a5e48>"
      ]
     },
     "execution_count": 6,
     "metadata": {},
     "output_type": "execute_result"
    },
    {
     "data": {
      "image/png": "[encoded data removed]",
      "text/plain": [
       "<Figure size 504x504 with 2 Axes>"
      ]
     },
     "metadata": {
      "needs_background": "light"
     },
     "output_type": "display_data"
    }
   ],
   "source": [
    "# Visualize some cell:\n",
    "dist_matrix = experiment.dist_matrix.copy()\n",
    "dist_matrix[dist_matrix>150] = np.nan\n",
    "plt.figure(figsize=[7, 7])\n",
    "sns.heatmap(dist_matrix, cmap='Reds_r', square=True)"
   ]
  },
  {
   "cell_type": "code",
   "execution_count": 7,
   "metadata": {},
   "outputs": [
    {
     "data": {
      "text/plain": [
       "{'n_dots': 65,\n",
       " 'author': 'Bintu2018',\n",
       " 'region': 'chr21-28-30Mb',\n",
       " 'cell_index': 1645,\n",
       " 'resolution': 30000,\n",
       " 'file': 'HCT116_chr21-28-30Mb_untreated.csv',\n",
       " 'cell_line': 'HCT116'}"
      ]
     },
     "execution_count": 7,
     "metadata": {},
     "output_type": "execute_result"
    }
   ],
   "source": [
    "experiment.metadata"
   ]
  },
  {
   "cell_type": "markdown",
   "metadata": {},
   "source": [
    "### Su et al. data\n",
    "\n",
    "Link to the paper: https://www.sciencedirect.com/science/article/abs/pii/S0092867420309405 \n",
    "\n",
    "Method: multiplexed error-robust fluorescence in situ hybridization (MERFISH)\n",
    "\n",
    "Resolution: \n",
    "\n",
    "Regions: \n",
    "\n",
    "Genome: \n",
    "\n",
    "Source: https://zenodo.org/record/3928890#.YRKNadMza3J \n",
    "\n",
    "Note, from README.md:\n",
    "\n",
    "```\n",
    "\"\n",
    "1.\tchromosome21.tsv - containing the 3D positions of the genomic loci across chromosome 21 measured using the sequential hybridization approach, separated for each imaged chromosomal copy. In separate columns, we also indicate the genes measured within each locus, their transcriptional states and the 3D positions of the corresponding 5kb chromatin segments around their transcription starts sites.\n",
    "\n",
    "2.\tchromosome21-cell_cycle.tsv - a replicate containing the 3D positions of the genomic loci across chromosome 21 measured using the sequential hybridization approach, separated for each imaged chromosomal copy. In separate columns, we also indicate the genes measured within each locus, their transcriptional states and the 3D positions of the corresponding 5kb chromatin segment around the transcription starts sites. In this replicate, we also imaged cell-cycle markers and indicated the cell cycle phases of the cells in a separate column.\n",
    "\n",
    "3.\tchromosome2.tsv - containing the 3D positions of the genomic loci across chromosome 2 measured using the sequential hybridization approach, separated for each imaged chromosomal copy. \n",
    "\n",
    "4.\tgenomic-scale.tsv - containing the 3D positions of the genomic loci measured in the genome-scale measurements using the DNA-MERFISH approach, separated for each homologous copy of each chromosome in each single cell. In a separate column, we indicate the distances from the imaged loci to the nuclear lamina. \n",
    "3 replicate experiments are included in this file.\n",
    "\n",
    "5.\tgenomic-scale-with transcription and nuclear bodies.tsv - containing the 3D positions of the genomic loci measured in the genome-scale measurements using the DNA-MERFISH approach, separated for each homologous copy of each chromosome in each single cell. In separate columns, we indicate for each locus whether the genes measured within it are actively transcribing and the distances from the locus to the nuclear lamina, the nearest nuclear speckle and the nearest nucleolus.\n",
    "2 replicate experiments are included in this file.\n",
    "\n",
    "6.\tgenomic-scale-amanitin.tsv - containing the 3D positions of the genomic loci measured in the genome-scale measurements using the DNA-MERFISH approach, separated for each homologous copy of each chromosome in each single cell for cells treated with α-amanitin. In separate columns, we indicate for each locus its distances to the nuclear lamina, the nearest nuclear speckle and nearest nucleolus where available.\n",
    "2 replicate experiments are included in this file. We only measured the nuclear speckles and nucleoli in the first experiment.\n",
    "\n",
    "\n",
    "We also included a Chromosome 2 p-arm replicate data file as described below, which has not been included in the Chromosome 2 p-arm analyses shown in the paper:\n",
    "\n",
    "chromosome2_p-arm_replicate.tsv - containing the 3D positions of the genomic loci across the p-arm of Chromosome 2 measured using the sequential hybridization approach, separated for each imaged chromosomal copy. \n",
    "\"\n",
    "```\n",
    "\n",
    "On selection of distance threshold:\n",
    "```\n",
    " The Pearson correlation coefficient remained high for a wide range of cutoff distances but peaked at 0.87 when the cutoff distance was ~400–600 nm (Figure S1J). We thus chose 500 nm as the cutoff\n",
    "distance to generate proximity frequency maps throughout this work.\n",
    "```\n",
    "\n"
   ]
  },
  {
   "cell_type": "code",
   "execution_count": null,
   "metadata": {},
   "outputs": [],
   "source": [
    "path = 'https://zenodo.org/record/3928890/files/{file}?download=1'\n",
    "files_list = [\n",
    "    'chromosome2.tsv',\n",
    "#     'chromosome21-cell_cycle.tsv',\n",
    "    'chromosome21.tsv',\n",
    "#     'chromosome2_p-arm_replicate.tsv',\n",
    "#     'genomic-scale-amanitin.tsv',\n",
    "#     'genomic-scale-with%20transcription%20and%20nuclear%20bodies.tsv',\n",
    "#     'genomic-scale.tsv'\n",
    "]"
   ]
  },
  {
   "cell_type": "code",
   "execution_count": null,
   "metadata": {
    "scrolled": false
   },
   "outputs": [],
   "source": [
    "distance_threshold = 500\n",
    "\n",
    "for f in files_list:\n",
    "    print(f'Reading table {f}...')\n",
    "    \n",
    "    # Read the file content\n",
    "    link = path.format(file=f)\n",
    "    http_pool = urllib3.connection_from_url(link)\n",
    "    r = http_pool.urlopen('GET', link)\n",
    "    data = r.data.decode('utf-8')\n",
    "    \n",
    "    # Read the dataframe with 3D coordinates: \n",
    "    df = pd.read_csv(StringIO(data), sep=\"\\t\")\n",
    "    \n",
    "    df.loc[:, 'chrom'] = [x.split(':')[0] for x in df['Genomic coordinate']]\n",
    "    df.loc[:, 'start'] = [int(x.split(':')[1].split('-')[0])-1 for x in df['Genomic coordinate']]\n",
    "    df.loc[:, 'end']   = [int(x.split(':')[1].split('-')[1])-1 for x in df['Genomic coordinate']]\n",
    "    \n",
    "    print('Distances downloaded')\n",
    "    \n",
    "    cells = np.sort(np.unique(df['Chromosome copy number']))\n",
    "    for cell in np.random.choice(cells, 10): # pick 10 random cells\n",
    "        \n",
    "        print(f'Cell {cell}')    \n",
    "        df_cell = df.loc[df['Chromosome copy number']==cell, :]\n",
    "        coordinates    = df_cell.loc[:, ['X(nm)', 'Y(nm)', 'Z(nm)']].values\n",
    "        segments_table = df_cell.loc[:, ['chrom', 'start', 'end']].reset_index(drop=True)\n",
    "        n_dots = coordinates.shape[0]\n",
    "        dist_mtx = scipy.spatial.distance.squareform(scipy.spatial.distance.pdist(coordinates, metric='euclidean'))\n",
    "        \n",
    "        print('Calculating distances...')\n",
    "        experiment = ImagingExperiment(dist_mtx, {'n_dots' : n_dots, \n",
    "                                                'author' : \"Su2020\", \n",
    "                                                'region' : f.replace('.', '_').split('_')[0], \n",
    "                                                'cell_index' : cell,\n",
    "                                                'file': f,\n",
    "                                                 })\n",
    "        \n",
    "        experiment.convert_to_contacts(threshold=distance_threshold)\n",
    "        experiment.annotate_contacts(segments_table, one_based=False)\n",
    "        experiment.annotate_distances(segments_table, one_based=False)\n",
    "        \n",
    "        print('Writing experiments...')\n",
    "        experiment.save_contacts(  './data/contacts_{author}_region-{region}_cell-{cell_index}.tsv')\n",
    "        experiment.save_distances('./data/distances_{author}_region-{region}_cell-{cell_index}.tsv')"
   ]
  },
  {
   "cell_type": "code",
   "execution_count": null,
   "metadata": {},
   "outputs": [],
   "source": [
    "# Visualize some cell:\n",
    "dist_matrix = experiment.dist_matrix.copy()\n",
    "dist_matrix[dist_matrix>500] = np.nan\n",
    "plt.figure(figsize=[10, 10])\n",
    "sns.heatmap(dist_matrix, cmap='Reds_r', square=True)"
   ]
  }
 ],
 "metadata": {
  "kernelspec": {
   "display_name": "bioinf",
   "language": "python",
   "name": "bioinf"
  },
  "language_info": {
   "codemirror_mode": {
    "name": "ipython",
    "version": 3
   },
   "file_extension": ".py",
   "mimetype": "text/x-python",
   "name": "python",
   "nbconvert_exporter": "python",
   "pygments_lexer": "ipython3",
   "version": "3.6.7"
  }
 },
 "nbformat": 4,
 "nbformat_minor": 2
}
